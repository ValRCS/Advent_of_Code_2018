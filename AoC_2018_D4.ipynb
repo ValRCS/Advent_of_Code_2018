{
 "cells": [
  {
   "cell_type": "markdown",
   "metadata": {},
   "source": [
    "# AoC_2018_D4"
   ]
  },
  {
   "cell_type": "code",
   "execution_count": 1,
   "metadata": {},
   "outputs": [],
   "source": [
    "with open('day4.txt') as f:\n",
    "    mydata = f.read().splitlines()"
   ]
  },
  {
   "cell_type": "code",
   "execution_count": 2,
   "metadata": {},
   "outputs": [
    {
     "data": {
      "text/plain": [
       "['[1518-11-07 00:21] falls asleep',\n",
       " '[1518-05-18 00:57] wakes up',\n",
       " '[1518-09-24 00:19] falls asleep']"
      ]
     },
     "execution_count": 2,
     "metadata": {},
     "output_type": "execute_result"
    }
   ],
   "source": [
    "mydata[:3]"
   ]
  },
  {
   "cell_type": "code",
   "execution_count": 3,
   "metadata": {},
   "outputs": [],
   "source": [
    "mydata = sorted(mydata)"
   ]
  },
  {
   "cell_type": "code",
   "execution_count": 4,
   "metadata": {},
   "outputs": [
    {
     "data": {
      "text/plain": [
       "['[1518-02-26 23:59] Guard #571 begins shift',\n",
       " '[1518-02-27 00:17] falls asleep',\n",
       " '[1518-02-27 00:51] wakes up',\n",
       " '[1518-02-27 00:56] falls asleep',\n",
       " '[1518-02-27 00:59] wakes up',\n",
       " '[1518-02-28 00:00] Guard #263 begins shift',\n",
       " '[1518-02-28 00:17] falls asleep',\n",
       " '[1518-02-28 00:26] wakes up',\n",
       " '[1518-02-28 23:49] Guard #2909 begins shift',\n",
       " '[1518-03-01 00:00] falls asleep',\n",
       " '[1518-03-01 00:15] wakes up',\n",
       " '[1518-03-01 00:28] falls asleep',\n",
       " '[1518-03-01 00:56] wakes up',\n",
       " '[1518-03-01 23:50] Guard #2777 begins shift',\n",
       " '[1518-03-02 00:02] falls asleep',\n",
       " '[1518-03-02 00:49] wakes up',\n",
       " '[1518-03-02 23:59] Guard #2729 begins shift',\n",
       " '[1518-03-03 00:46] falls asleep',\n",
       " '[1518-03-03 00:54] wakes up',\n",
       " '[1518-03-03 23:58] Guard #83 begins shift']"
      ]
     },
     "execution_count": 4,
     "metadata": {},
     "output_type": "execute_result"
    }
   ],
   "source": [
    "mydata[:20]"
   ]
  },
  {
   "cell_type": "code",
   "execution_count": 5,
   "metadata": {},
   "outputs": [
    {
     "data": {
      "text/plain": [
       "['[1518-11-19 00:52] falls asleep',\n",
       " '[1518-11-19 00:55] wakes up',\n",
       " '[1518-11-19 23:57] Guard #1877 begins shift',\n",
       " '[1518-11-20 00:16] falls asleep',\n",
       " '[1518-11-20 00:45] wakes up',\n",
       " '[1518-11-20 00:55] falls asleep',\n",
       " '[1518-11-20 00:56] wakes up',\n",
       " '[1518-11-20 23:57] Guard #2729 begins shift',\n",
       " '[1518-11-21 00:15] falls asleep',\n",
       " '[1518-11-21 00:50] wakes up',\n",
       " '[1518-11-21 00:56] falls asleep',\n",
       " '[1518-11-21 00:57] wakes up',\n",
       " '[1518-11-22 00:02] Guard #157 begins shift',\n",
       " '[1518-11-22 00:10] falls asleep',\n",
       " '[1518-11-22 00:49] wakes up',\n",
       " '[1518-11-23 00:02] Guard #2657 begins shift',\n",
       " '[1518-11-23 00:22] falls asleep',\n",
       " '[1518-11-23 00:33] wakes up',\n",
       " '[1518-11-23 00:46] falls asleep',\n",
       " '[1518-11-23 00:51] wakes up']"
      ]
     },
     "execution_count": 5,
     "metadata": {},
     "output_type": "execute_result"
    }
   ],
   "source": [
    "mydata[-20:]"
   ]
  },
  {
   "cell_type": "code",
   "execution_count": 6,
   "metadata": {},
   "outputs": [],
   "source": [
    "import re"
   ]
  },
  {
   "cell_type": "code",
   "execution_count": 7,
   "metadata": {},
   "outputs": [
    {
     "name": "stderr",
     "output_type": "stream",
     "text": [
      "C:\\ProgramData\\Anaconda3\\lib\\re.py:212: FutureWarning: split() requires a non-empty pattern match.\n",
      "  return _compile(pattern, flags).split(string, maxsplit)\n"
     ]
    },
    {
     "data": {
      "text/plain": [
       "['[1518-02-26', '23:59]', 'Guard', '', '571', 'begins', 'shift']"
      ]
     },
     "execution_count": 7,
     "metadata": {},
     "output_type": "execute_result"
    }
   ],
   "source": [
    "re.split('#| |', mydata[0])"
   ]
  },
  {
   "cell_type": "code",
   "execution_count": 8,
   "metadata": {},
   "outputs": [
    {
     "data": {
      "text/plain": [
       "['1518', '02', '26', '23', '59', '571']"
      ]
     },
     "execution_count": 8,
     "metadata": {},
     "output_type": "execute_result"
    }
   ],
   "source": [
    "re.findall(r'\\d+', mydata[0])"
   ]
  },
  {
   "cell_type": "code",
   "execution_count": 11,
   "metadata": {},
   "outputs": [
    {
     "data": {
      "text/plain": [
       "['#5']"
      ]
     },
     "execution_count": 11,
     "metadata": {},
     "output_type": "execute_result"
    }
   ],
   "source": [
    "re.findall(r'#\\d', mydata[0])"
   ]
  },
  {
   "cell_type": "code",
   "execution_count": 12,
   "metadata": {},
   "outputs": [
    {
     "data": {
      "text/plain": [
       "['571']"
      ]
     },
     "execution_count": 12,
     "metadata": {},
     "output_type": "execute_result"
    }
   ],
   "source": [
    "re.findall(r'#(\\d+)', mydata[0])"
   ]
  },
  {
   "cell_type": "code",
   "execution_count": 13,
   "metadata": {},
   "outputs": [
    {
     "data": {
      "text/plain": [
       "[]"
      ]
     },
     "execution_count": 13,
     "metadata": {},
     "output_type": "execute_result"
    }
   ],
   "source": [
    "re.findall(r'#(\\d+)', mydata[1])"
   ]
  }
 ],
 "metadata": {
  "kernelspec": {
   "display_name": "Python 3",
   "language": "python",
   "name": "python3"
  },
  "language_info": {
   "codemirror_mode": {
    "name": "ipython",
    "version": 3
   },
   "file_extension": ".py",
   "mimetype": "text/x-python",
   "name": "python",
   "nbconvert_exporter": "python",
   "pygments_lexer": "ipython3",
   "version": "3.6.4"
  }
 },
 "nbformat": 4,
 "nbformat_minor": 2
}
