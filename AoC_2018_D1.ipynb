{
 "cells": [
  {
   "cell_type": "markdown",
   "metadata": {},
   "source": [
    "# Advent of Code 2018 \n",
    "## Day 1\n",
    "\n",
    "https://adventofcode.com/2018/day/1"
   ]
  },
  {
   "cell_type": "code",
   "execution_count": null,
   "metadata": {},
   "outputs": [],
   "source": [
    "--- Part One ---\n",
    "After feeling like you've been falling for a few minutes, you look at the device's tiny screen. \"Error: Device must be calibrated before first use. Frequency drift detected. Cannot maintain destination lock.\" Below the message, the device shows a sequence of changes in frequency (your puzzle input). A value like +6 means the current frequency increases by 6; a value like -3 means the current frequency decreases by 3.\n",
    "\n",
    "For example, if the device displays frequency changes of +1, -2, +3, +1, then starting from a frequency of zero, the following changes would occur:\n",
    "\n",
    "Current frequency  0, change of +1; resulting frequency  1.\n",
    "Current frequency  1, change of -2; resulting frequency -1.\n",
    "Current frequency -1, change of +3; resulting frequency  2.\n",
    "Current frequency  2, change of +1; resulting frequency  3.\n",
    "In this example, the resulting frequency is 3.\n",
    "\n",
    "Here are other example situations:\n",
    "\n",
    "+1, +1, +1 results in  3\n",
    "+1, +1, -2 results in  0\n",
    "-1, -2, -3 results in -6\n",
    "\n",
    "Starting with a frequency of zero, what is the resulting frequency after all of the changes in frequency have been applied?"
   ]
  },
  {
   "cell_type": "code",
   "execution_count": null,
   "metadata": {},
   "outputs": [],
   "source": [
    "## The below will not work as each user gets their own data!"
   ]
  },
  {
   "cell_type": "code",
   "execution_count": null,
   "metadata": {},
   "outputs": [],
   "source": []
  },
  {
   "cell_type": "code",
   "execution_count": null,
   "metadata": {},
   "outputs": [],
   "source": [
    "target_url = \"https://adventofcode.com/2018/day/1/input\""
   ]
  },
  {
   "cell_type": "code",
   "execution_count": null,
   "metadata": {},
   "outputs": [],
   "source": [
    "from urllib.request import urlopen\n",
    "data = urlopen(target_url)"
   ]
  },
  {
   "cell_type": "code",
   "execution_count": null,
   "metadata": {},
   "outputs": [],
   "source": [
    "# You'd need to spoof a browser and add a cookie simulating your login BUT do not do this..."
   ]
  },
  {
   "cell_type": "code",
   "execution_count": null,
   "metadata": {},
   "outputs": [],
   "source": [
    "# https://www.reddit.com/r/adventofcode/comments/5gefzc/only_you_can_prevent_ddos_attacks_on_aoc/"
   ]
  },
  {
   "cell_type": "code",
   "execution_count": null,
   "metadata": {},
   "outputs": [],
   "source": [
    "with open('day1.txt') as f:\n",
    "    mydata = [line for line in f.readlines()]"
   ]
  },
  {
   "cell_type": "code",
   "execution_count": null,
   "metadata": {},
   "outputs": [],
   "source": [
    "len(mydata)"
   ]
  },
  {
   "cell_type": "code",
   "execution_count": null,
   "metadata": {},
   "outputs": [],
   "source": [
    "mydata[3:7],mydata[-1]"
   ]
  },
  {
   "cell_type": "code",
   "execution_count": null,
   "metadata": {},
   "outputs": [],
   "source": [
    "## Better is\n",
    "with open('day1.txt') as f:\n",
    "    mydata2 = f.read().splitlines()\n",
    "# https://docs.python.org/3/library/stdtypes.html\n",
    "# https://stackoverflow.com/questions/12330522/reading-a-file-without-newlines"
   ]
  },
  {
   "cell_type": "code",
   "execution_count": null,
   "metadata": {},
   "outputs": [],
   "source": [
    "mydata2[:7]"
   ]
  },
  {
   "cell_type": "code",
   "execution_count": null,
   "metadata": {},
   "outputs": [],
   "source": [
    "int(mydata2[0])"
   ]
  },
  {
   "cell_type": "code",
   "execution_count": null,
   "metadata": {},
   "outputs": [],
   "source": [
    "int(mydata2[2])"
   ]
  },
  {
   "cell_type": "code",
   "execution_count": null,
   "metadata": {},
   "outputs": [],
   "source": [
    "# Lets try a one liner\n",
    "with open('day1.txt') as f:\n",
    "    print(sum([int(line) for line in f.read().splitlines()]))"
   ]
  },
  {
   "cell_type": "code",
   "execution_count": null,
   "metadata": {},
   "outputs": [],
   "source": [
    "--- Part Two ---\n",
    "You notice that the device repeats the same frequency change list over and over. To calibrate the device, you need to find the first frequency it reaches twice.\n",
    "\n",
    "For example, using the same list of changes above, the device would loop as follows:\n",
    "\n",
    "Current frequency  0, change of +1; resulting frequency  1.\n",
    "Current frequency  1, change of -2; resulting frequency -1.\n",
    "Current frequency -1, change of +3; resulting frequency  2.\n",
    "Current frequency  2, change of +1; resulting frequency  3.\n",
    "(At this point, the device continues from the start of the list.)\n",
    "Current frequency  3, change of +1; resulting frequency  4.\n",
    "Current frequency  4, change of -2; resulting frequency  2, which has already been seen.\n",
    "In this example, the first frequency reached twice is 2. Note that your device might need to repeat its list of frequency changes many times before a duplicate frequency is found, and that duplicates might be found while in the middle of processing the list.\n",
    "\n",
    "Here are other examples:\n",
    "\n",
    "+1, -1 first reaches 0 twice.\n",
    "+3, +3, +4, -2, -4 first reaches 10 twice.\n",
    "-6, +3, +8, +5, -6 first reaches 5 twice.\n",
    "+7, +7, -2, -7, -4 first reaches 14 twice.\n",
    "What is the first frequency your device reaches twice?"
   ]
  },
  {
   "cell_type": "code",
   "execution_count": null,
   "metadata": {},
   "outputs": [],
   "source": [
    "## Looks like we need to keep a track of all frequencies seen, some sort of hash list would be useful"
   ]
  },
  {
   "cell_type": "markdown",
   "metadata": {},
   "source": [
    "### Note\n",
    "From previous AoCs 2nd part usually requires doing something with intermittent values of the first part so one liners might not be as useful.."
   ]
  },
  {
   "cell_type": "code",
   "execution_count": null,
   "metadata": {},
   "outputs": [],
   "source": [
    "dict = {1:True, 3:False} # here it doesnt matter what the value is, \n",
    "# Bonus Question why not use an array to store all previously seen sums? "
   ]
  },
  {
   "cell_type": "code",
   "execution_count": null,
   "metadata": {},
   "outputs": [],
   "source": [
    "1 in dict"
   ]
  },
  {
   "cell_type": "code",
   "execution_count": null,
   "metadata": {},
   "outputs": [],
   "source": [
    "2 in dict"
   ]
  },
  {
   "cell_type": "code",
   "execution_count": null,
   "metadata": {},
   "outputs": [],
   "source": [
    "3 in dict"
   ]
  },
  {
   "cell_type": "code",
   "execution_count": null,
   "metadata": {},
   "outputs": [],
   "source": [
    "dict[5]=True"
   ]
  },
  {
   "cell_type": "code",
   "execution_count": null,
   "metadata": {},
   "outputs": [],
   "source": [
    "dict"
   ]
  },
  {
   "cell_type": "code",
   "execution_count": null,
   "metadata": {},
   "outputs": [],
   "source": [
    "mydict = {0:True}"
   ]
  },
  {
   "cell_type": "code",
   "execution_count": null,
   "metadata": {},
   "outputs": [],
   "source": [
    "with open('day1.txt') as f:\n",
    "    mydata = [int(line) for line in f.read().splitlines()]"
   ]
  },
  {
   "cell_type": "code",
   "execution_count": 2,
   "metadata": {},
   "outputs": [
    {
     "data": {
      "text/plain": [
       "([-10, -12, 1, 14, 11, -19, -4], 75784)"
      ]
     },
     "execution_count": 2,
     "metadata": {},
     "output_type": "execute_result"
    }
   ],
   "source": [
    "mydata[:7],mydata[-1]"
   ]
  },
  {
   "cell_type": "code",
   "execution_count": 3,
   "metadata": {},
   "outputs": [
    {
     "name": "stdout",
     "output_type": "stream",
     "text": [
      "464 found twice!\n"
     ]
    }
   ],
   "source": [
    "mydict = {0:True}\n",
    "sum = 0\n",
    "finished = False # we need this because of double loop, other ways of breaking two loops exist as well\n",
    "# https://stackoverflow.com/questions/189645/how-to-break-out-of-multiple-loops-in-python\n",
    "while(not finished):\n",
    "    for n in mydata:\n",
    "        # print(n,sum)\n",
    "        sum += n\n",
    "        # print(f'AFTER: {n} = {sum}')\n",
    "        if sum in mydict:\n",
    "            print(f'{sum} found twice!')\n",
    "            finished = True\n",
    "            break # breaks only the inner loop!\n",
    "        else:\n",
    "            mydict[sum]=True # again True might as well be anything else for this exercise\n",
    "    "
   ]
  }
 ],
 "metadata": {
  "kernelspec": {
   "display_name": "Python 3",
   "language": "python",
   "name": "python3"
  },
  "language_info": {
   "codemirror_mode": {
    "name": "ipython",
    "version": 3
   },
   "file_extension": ".py",
   "mimetype": "text/x-python",
   "name": "python",
   "nbconvert_exporter": "python",
   "pygments_lexer": "ipython3",
   "version": "3.7.0"
  }
 },
 "nbformat": 4,
 "nbformat_minor": 2
}
